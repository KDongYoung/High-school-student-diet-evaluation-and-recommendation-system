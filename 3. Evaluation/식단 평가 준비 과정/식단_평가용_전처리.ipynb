{
  "nbformat": 4,
  "nbformat_minor": 0,
  "metadata": {
    "kernelspec": {
      "display_name": "Python 3",
      "language": "python",
      "name": "python3"
    },
    "language_info": {
      "codemirror_mode": {
        "name": "ipython",
        "version": 3
      },
      "file_extension": ".py",
      "mimetype": "text/x-python",
      "name": "python",
      "nbconvert_exporter": "python",
      "pygments_lexer": "ipython3",
      "version": "3.7.1"
    },
    "colab": {
      "name": "식단_평가용_전처리.ipynb",
      "provenance": [],
      "collapsed_sections": [],
      "toc_visible": true
    }
  },
  "cells": [
    {
      "cell_type": "code",
      "metadata": {
        "id": "tzQT530gDHaZ",
        "colab_type": "code",
        "colab": {}
      },
      "source": [
        "import pandas as pd\n",
        "import numpy as np"
      ],
      "execution_count": 0,
      "outputs": []
    },
    {
      "cell_type": "markdown",
      "metadata": {
        "id": "ASqXon8sE_dW",
        "colab_type": "text"
      },
      "source": [
        "### **식단과 인체 조합 만들기**"
      ]
    },
    {
      "cell_type": "markdown",
      "metadata": {
        "id": "JxB4tE1aFOlL",
        "colab_type": "text"
      },
      "source": [
        "1) 일주일 식단 조합"
      ]
    },
    {
      "cell_type": "code",
      "metadata": {
        "id": "qFzcfvJVW3Zy",
        "colab_type": "code",
        "colab": {}
      },
      "source": [
        "def sampling_func(data):\n",
        "    N = len(data)\n",
        "    sample_n=1404 # 1404개 뽑기 (학생 수)\n",
        "    sample = data.take(np.random.permutation(N)[:sample_n])\n",
        "    return sample"
      ],
      "execution_count": 0,
      "outputs": []
    },
    {
      "cell_type": "code",
      "metadata": {
        "id": "4fQOUM6zRCYy",
        "colab_type": "code",
        "colab": {}
      },
      "source": [
        "h=pd.read_csv(\"인체치수 최종본.csv\",encoding='utf-8-sig',engine=\"python\",index_col=[0])\n",
        "a=pd.read_csv(\"일주일 식단.csv\",encoding='utf-8-sig',engine=\"python\",index_col=[0])\n",
        "f=pd.DataFrame(0,columns=a.columns,index=[0])"
      ],
      "execution_count": 0,
      "outputs": []
    },
    {
      "cell_type": "code",
      "metadata": {
        "id": "6fJj-awgacVn",
        "colab_type": "code",
        "outputId": "ef8d22c6-b761-46a8-d3ec-78e8d046ca88",
        "colab": {
          "base_uri": "https://localhost:8080/",
          "height": 161
        }
      },
      "source": [
        "for i in range(1,5002):\n",
        "  g=a[a['num']==i].iloc[:,3:].sum()\n",
        "  g=pd.DataFrame(g).T\n",
        "  g[\"num\"]=i\n",
        "  g[\"일주일 식단\"]=\"@@\".join(a[a['num']==i].iloc[:,1])\n",
        "  g[\"일주일 간식\"]=\"@@\".join(a[a['num']==i].iloc[:,2])\n",
        "  f=pd.concat([f,g])"
      ],
      "execution_count": 4,
      "outputs": [
        {
          "output_type": "stream",
          "text": [
            "/usr/local/lib/python3.6/dist-packages/ipykernel_launcher.py:7: FutureWarning: Sorting because non-concatenation axis is not aligned. A future version\n",
            "of pandas will change to not sort by default.\n",
            "\n",
            "To accept the future behavior, pass 'sort=False'.\n",
            "\n",
            "To retain the current behavior and silence the warning, pass 'sort=True'.\n",
            "\n",
            "  import sys\n"
          ],
          "name": "stderr"
        }
      ]
    },
    {
      "cell_type": "code",
      "metadata": {
        "id": "toS2JKwYacbk",
        "colab_type": "code",
        "colab": {}
      },
      "source": [
        "f=f.reset_index(drop=True)\n",
        "f=f[1:]\n",
        "sample=sampling_func(f)\n",
        "sample=sample.reset_index(drop=True)"
      ],
      "execution_count": 0,
      "outputs": []
    },
    {
      "cell_type": "code",
      "metadata": {
        "id": "e6WOhPlRRCmW",
        "colab_type": "code",
        "colab": {}
      },
      "source": [
        "week=sample.num"
      ],
      "execution_count": 0,
      "outputs": []
    },
    {
      "cell_type": "code",
      "metadata": {
        "id": "dlK24lqcRCCt",
        "colab_type": "code",
        "colab": {}
      },
      "source": [
        "g=pd.concat([h,sample],axis=1)"
      ],
      "execution_count": 0,
      "outputs": []
    },
    {
      "cell_type": "code",
      "metadata": {
        "id": "U_zto5RY8Fo8",
        "colab_type": "code",
        "colab": {}
      },
      "source": [
        "# 열이름 바꾸기\n",
        "g.columns=['성별', '골격근량', '체지방량', 'BMI', '체지방율', '복부지방율', '몸무게', '나이', '키', '기초대사량', '탄수화물', '단백질', '지방', \n",
        "           '비타민A', '티아민', '리보플라빈', '비타민C', '칼슘', '철분', '알레르기', '1.난류', '10.돼지고기', '11.복숭아', '12.토마토', \n",
        "           '13.아황산염', '14.호두', '15.닭고기', '16.쇠고기', '17.오징어', '18.조개류(굴,전복,홍합 등)', '2.우유', '3.메밀', '4.땅콩', '5.대두', \n",
        "           '6.밀', '7.고등어', '8.게', '9.새우', 'num', '간식', '나트륨(mg)', '당류(g)', '리보플라빈(mg)', '비타민A(mg)', '비타민C(mg)', \n",
        "           '식단', '일주일 간식', '일주일 식단', '철분(mg)', '총 단백질(g)', '총 열량(kcal)', '총 지방(g)', '총 탄수화물(g)', '칼로리(Kcal)', \n",
        "           '칼슘(mg)', '티아민(mg)', '포화지방산(g)']\n",
        "# 열 순서 바꾸기\n",
        "g=g[['성별', '골격근량', '체지방량', 'BMI', '체지방율', '복부지방율', '몸무게', '나이', '키', '기초대사량', '탄수화물', '단백질', '지방',\n",
        "     '비타민A', '티아민', '리보플라빈', '비타민C', '칼슘', '철분', '알레르기', '일주일 간식', '일주일 식단','총 열량(kcal)','총 탄수화물(g)',\n",
        "     '총 단백질(g)','총 지방(g)', '비타민A(mg)', '티아민(mg)', '리보플라빈(mg)', '비타민C(mg)', '칼슘(mg)', '철분(mg)', '나트륨(mg)', '당류(g)', \n",
        "     '포화지방산(g)','1.난류', '2.우유', '3.메밀', '4.땅콩', '5.대두', '6.밀', '7.고등어', '8.게', '9.새우', '10.돼지고기', '11.복숭아', '12.토마토', \n",
        "     '13.아황산염', '14.호두', '15.닭고기', '16.쇠고기', '17.오징어', '18.조개류(굴,전복,홍합 등)',]]"
      ],
      "execution_count": 0,
      "outputs": []
    },
    {
      "cell_type": "code",
      "metadata": {
        "id": "WBdYzakBXMD_",
        "colab_type": "code",
        "colab": {}
      },
      "source": [
        "g.to_csv(\"신체식단조합.csv\",encoding=\"utf-8-sig\")"
      ],
      "execution_count": 0,
      "outputs": []
    },
    {
      "cell_type": "markdown",
      "metadata": {
        "id": "iywYc2wzEsEt",
        "colab_type": "text"
      },
      "source": [
        "2) 하루하루 식단과 신체 조합"
      ]
    },
    {
      "cell_type": "code",
      "metadata": {
        "id": "KQxWZdtSXMHQ",
        "colab_type": "code",
        "colab": {}
      },
      "source": [
        "week=week.tolist()"
      ],
      "execution_count": 0,
      "outputs": []
    },
    {
      "cell_type": "code",
      "metadata": {
        "id": "z3CnArvkEqtM",
        "colab_type": "code",
        "colab": {}
      },
      "source": [
        "row=[]\n",
        "for j in range(len(a)):\n",
        "  if a.iloc[j,0] in week:\n",
        "    row.append(a.iloc[j])"
      ],
      "execution_count": 0,
      "outputs": []
    },
    {
      "cell_type": "code",
      "metadata": {
        "id": "C14Kr2QXEqyi",
        "colab_type": "code",
        "colab": {}
      },
      "source": [
        "everyday=pd.DataFrame(row)\n",
        "everyday=everyday.reset_index(drop=True)"
      ],
      "execution_count": 0,
      "outputs": []
    },
    {
      "cell_type": "code",
      "metadata": {
        "id": "WPMohqaZHbcN",
        "colab_type": "code",
        "colab": {}
      },
      "source": [
        "k=pd.DataFrame(pd.np.repeat(h.values,7,axis=0),columns=h.columns)"
      ],
      "execution_count": 0,
      "outputs": []
    },
    {
      "cell_type": "code",
      "metadata": {
        "id": "RlXaDpYOHbfN",
        "colab_type": "code",
        "colab": {}
      },
      "source": [
        "everyday2=pd.concat([k,everyday],axis=1)"
      ],
      "execution_count": 0,
      "outputs": []
    },
    {
      "cell_type": "code",
      "metadata": {
        "id": "8jkxswFxM96P",
        "colab_type": "code",
        "colab": {}
      },
      "source": [
        "everyday2.columns=['성별', '골격근량', '체지방량', 'BMI', '체지방율', '복부지방율', '몸무게', '나이', '키', '기초대사량',\n",
        "       '탄수화물', '단백질', '지방', '비타민A', '티아민', '리보플라빈', '비타민C', '칼슘', '철분', '알레르기',\n",
        "       'num', '하루 식단', '하루 간식', '칼로리(Kcal)', '총 열량(kcal)', '총 탄수화물(g)', '총 단백질(g)',\n",
        "       '총 지방(g)', '비타민A(mg)', '티아민(mg)', '리보플라빈(mg)', '비타민C(mg)', '칼슘(mg)',\n",
        "       '철분(mg)', '당류(g)', '나트륨(mg)', '포화지방산(g)', '1.난류', '2.우유', '3.메밀',\n",
        "       '4.땅콩', '5.대두', '6.밀', '7.고등어', '8.게', '9.새우', '10.돼지고기', '11.복숭아',\n",
        "       '12.토마토', '13.아황산염', '14.호두', '15.닭고기', '16.쇠고기', '17.오징어',\n",
        "       '18.조개류(굴,전복,홍합 등)']"
      ],
      "execution_count": 0,
      "outputs": []
    },
    {
      "cell_type": "code",
      "metadata": {
        "id": "Q9pl5BBFHbiK",
        "colab_type": "code",
        "colab": {}
      },
      "source": [
        "everyday2=everyday2[['성별', '골격근량', '체지방량', 'BMI', '체지방율', '복부지방율', '몸무게', '나이', '키', '기초대사량',\n",
        "      '탄수화물', '단백질', '지방', '비타민A', '티아민', '리보플라빈', '비타민C', '칼슘', '철분', '알레르기',\n",
        "      '하루 식단', '하루 간식','총 열량(kcal)','총 탄수화물(g)','총 단백질(g)','총 지방(g)', '비타민A(mg)', '티아민(mg)', '리보플라빈(mg)', '비타민C(mg)',\n",
        "      '칼슘(mg)', '철분(mg)', '나트륨(mg)', '당류(g)', '포화지방산(g)','1.난류', '2.우유', '3.메밀', '4.땅콩', '5.대두', '6.밀', '7.고등어', '8.게', '9.새우', '10.돼지고기', \n",
        "      '11.복숭아', '12.토마토', '13.아황산염', '14.호두', '15.닭고기', '16.쇠고기', '17.오징어', '18.조개류(굴,전복,홍합 등)',]]"
      ],
      "execution_count": 0,
      "outputs": []
    },
    {
      "cell_type": "code",
      "metadata": {
        "id": "tw-u8U8tEq2x",
        "colab_type": "code",
        "colab": {}
      },
      "source": [
        "everyday2.to_csv(\"신체식단조합(하루).csv\",encoding=\"utf-8-sig\")"
      ],
      "execution_count": 0,
      "outputs": []
    }
  ]
}