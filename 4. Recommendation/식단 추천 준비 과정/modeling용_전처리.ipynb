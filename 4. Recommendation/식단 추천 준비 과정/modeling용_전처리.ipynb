{
  "nbformat": 4,
  "nbformat_minor": 0,
  "metadata": {
    "colab": {
      "name": "modeling용 전처리.ipynb",
      "provenance": [],
      "collapsed_sections": []
    },
    "kernelspec": {
      "name": "python3",
      "display_name": "Python 3"
    }
  },
  "cells": [
    {
      "cell_type": "code",
      "metadata": {
        "id": "83nPcsejIGS-",
        "colab_type": "code",
        "colab": {}
      },
      "source": [
        "import pandas as pd\n",
        "import numpy as np"
      ],
      "execution_count": 0,
      "outputs": []
    },
    {
      "cell_type": "code",
      "metadata": {
        "id": "JZtjB4jtIKFc",
        "colab_type": "code",
        "colab": {}
      },
      "source": [
        "healthy=pd.read_csv(\"7균형식단.csv\",encoding=\"utf-8-sig\",index_col=[0])\n",
        "unhealthy=pd.read_csv(\"fivetwo조합.csv\",encoding=\"utf-8-sig\",index_col=[0])"
      ],
      "execution_count": 0,
      "outputs": []
    },
    {
      "cell_type": "code",
      "metadata": {
        "id": "ORurnRPkIKID",
        "colab_type": "code",
        "colab": {}
      },
      "source": [
        "def sampling_func(data):\n",
        "    N = len(data)\n",
        "    sample_n=5000 #5000개씩 뽑기\n",
        "    sample = data.take(np.random.permutation(N)[:sample_n])\n",
        "    return sample"
      ],
      "execution_count": 0,
      "outputs": []
    },
    {
      "cell_type": "code",
      "metadata": {
        "id": "jmSLF2bHIKKc",
        "colab_type": "code",
        "colab": {}
      },
      "source": [
        "unhealthy=unhealthy[['칼로리(kcal)', '탄수화물(g)', '단백질(g)', '지방(g)', '비타민A(mg)', '티아민(mg)',\n",
        "       '리보플라빈(mg)', '비타민C(mg)', '칼슘(mg)', '철분(mg)']]"
      ],
      "execution_count": 0,
      "outputs": []
    },
    {
      "cell_type": "code",
      "metadata": {
        "id": "B-TswbvuJewo",
        "colab_type": "code",
        "colab": {}
      },
      "source": [
        "b=sampling_func(healthy).iloc[:,1:]\n",
        "c=sampling_func(unhealthy)"
      ],
      "execution_count": 0,
      "outputs": []
    },
    {
      "cell_type": "code",
      "metadata": {
        "id": "XrQVZdW2IKPg",
        "colab_type": "code",
        "colab": {
          "base_uri": "https://localhost:8080/",
          "height": 181
        },
        "outputId": "62c7db2a-e643-4865-8d1d-36cc97920aa3"
      },
      "source": [
        "a=pd.concat([sampling_func(healthy).iloc[:,1:],sampling_func(unhealthy)])"
      ],
      "execution_count": 6,
      "outputs": [
        {
          "output_type": "stream",
          "text": [
            "/usr/local/lib/python3.6/dist-packages/ipykernel_launcher.py:1: FutureWarning: Sorting because non-concatenation axis is not aligned. A future version\n",
            "of pandas will change to not sort by default.\n",
            "\n",
            "To accept the future behavior, pass 'sort=False'.\n",
            "\n",
            "To retain the current behavior and silence the warning, pass 'sort=True'.\n",
            "\n",
            "  \"\"\"Entry point for launching an IPython kernel.\n"
          ],
          "name": "stderr"
        }
      ]
    },
    {
      "cell_type": "code",
      "metadata": {
        "id": "jhAaBFrDIKVU",
        "colab_type": "code",
        "colab": {}
      },
      "source": [
        "a=a.sample(frac=1).reset_index(drop=True)\n",
        "train=a.iloc[:8000,:]\n",
        "test=a.iloc[8000:,:]"
      ],
      "execution_count": 0,
      "outputs": []
    },
    {
      "cell_type": "code",
      "metadata": {
        "id": "GjFqN1zuHEw1",
        "colab_type": "code",
        "colab": {}
      },
      "source": [
        "test=test.reset_index(drop=True)"
      ],
      "execution_count": 0,
      "outputs": []
    },
    {
      "cell_type": "code",
      "metadata": {
        "id": "M-ZKhV4FJ5-c",
        "colab_type": "code",
        "colab": {}
      },
      "source": [
        "train.to_csv(\"train data.csv\",encoding='utf-8-sig')\n",
        "test.to_csv(\"test data.csv\",encoding='utf-8-sig')"
      ],
      "execution_count": 0,
      "outputs": []
    }
  ]
}